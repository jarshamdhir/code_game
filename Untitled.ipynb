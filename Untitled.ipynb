{
 "cells": [
  {
   "cell_type": "code",
   "execution_count": null,
   "id": "a47a7935-19c5-47a4-95ed-b55ab1202e5f",
   "metadata": {},
   "outputs": [],
   "source": [
    "# Computing probabilities using python\n",
    "\"\"\"Few things in life are certain but many of things are driven by chance. like whenever we cheer our favorite sports team, investing,\n",
    "buying lottery ticket or else. We hope for particular outcome, but that outcome cannot ever by guaranteed. Still we can observe these randomness and can \n",
    "predict future outcomes based on mathematical principles or by logics.\"\"\""
   ]
  },
  {
   "cell_type": "code",
   "execution_count": 5,
   "id": "e86061b0-1dc9-44d1-a9b6-d9bd6ac9adee",
   "metadata": {},
   "outputs": [],
   "source": [
    "##Sample Space analysis: an equation-free approach for measuring uncertainty in outcomes#\n",
    "sample_space = {'heads','Tails'}"
   ]
  },
  {
   "cell_type": "code",
   "execution_count": null,
   "id": "3bb034d3-29b2-4f38-aaca-f2d52840916b",
   "metadata": {},
   "outputs": [],
   "source": [
    "probability_heads = 1 / len(sample_space)\n",
    "print(f\"Probability"
   ]
  }
 ],
 "metadata": {
  "kernelspec": {
   "display_name": "Python 3 (ipykernel)",
   "language": "python",
   "name": "python3"
  },
  "language_info": {
   "codemirror_mode": {
    "name": "ipython",
    "version": 3
   },
   "file_extension": ".py",
   "mimetype": "text/x-python",
   "name": "python",
   "nbconvert_exporter": "python",
   "pygments_lexer": "ipython3",
   "version": "3.12.2"
  }
 },
 "nbformat": 4,
 "nbformat_minor": 5
}
