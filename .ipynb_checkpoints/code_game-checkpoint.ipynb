{
 "cells": [
  {
   "cell_type": "code",
   "execution_count": null,
   "id": "a47a7935-19c5-47a4-95ed-b55ab1202e5f",
   "metadata": {},
   "outputs": [],
   "source": [
    "# Computing probabilities using python\n",
    "\"\"\"Few things in life are certain but many of things are driven by chance. like whenever we cheer our favorite sports team, investing,\n",
    "buying lottery ticket or else. We hope for particular outcome, but that outcome cannot ever by guaranteed. Still we can observe these randomness and can \n",
    "predict future outcomes based on mathematical principles or by logics.\"\"\""
   ]
  },
  {
   "cell_type": "code",
   "execution_count": 29,
   "id": "e86061b0-1dc9-44d1-a9b6-d9bd6ac9adee",
   "metadata": {},
   "outputs": [],
   "source": [
    "##Sample Space analysis: an equation-free approach for measuring uncertainty in outcomes#\n",
    "sample_space = {'Heads','Tails'}"
   ]
  },
  {
   "cell_type": "code",
   "execution_count": 30,
   "id": "3bb034d3-29b2-4f38-aaca-f2d52840916b",
   "metadata": {},
   "outputs": [
    {
     "name": "stdout",
     "output_type": "stream",
     "text": [
      "Probability of choosing heads is 0.5\n"
     ]
    }
   ],
   "source": [
    "probability_heads = 1 / len(sample_space)\n",
    "print(f\"Probability of choosing heads is {probability_heads}\")"
   ]
  },
  {
   "cell_type": "code",
   "execution_count": 31,
   "id": "2a55c9a3-428d-4420-a55f-b77547d49524",
   "metadata": {},
   "outputs": [],
   "source": [
    "#Let's find two event conditions one where the coin lands on either heads or tails and another where the coin lands on neither heads or tails\n",
    "def is_heads_or_tails(outcome): return outcome in {'Heads','Tails'}\n",
    "def is_neither(outcome): return not is_heads_or_tails(outcome)"
   ]
  },
  {
   "cell_type": "code",
   "execution_count": 35,
   "id": "a2dab5c1-06e2-4d7b-a467-465f6630dc4f",
   "metadata": {},
   "outputs": [],
   "source": [
    "# for i in sample_space:\n",
    "#     if is_heads_or_tails(i):\n",
    "#         print(True)\n",
    "#     else:\n",
    "#         print(False)"
   ]
  },
  {
   "cell_type": "code",
   "execution_count": 36,
   "id": "ce0f9b72-ae13-4761-85f1-9d93ef0dfe60",
   "metadata": {},
   "outputs": [],
   "source": [
    "#event conditions for two basic events in which the coin satisfies exactly one of your two potential outcomes.\n",
    "def is_heads(outcome): return outcome == \"Heads\"\n",
    "def is_tails(outcome): return outcome == \"Tails\""
   ]
  },
  {
   "cell_type": "code",
   "execution_count": 37,
   "id": "ffed4856-a049-44cd-9fca-e8baa4e9efa0",
   "metadata": {},
   "outputs": [],
   "source": [
    "def get_matching_event(event_condition, sample_space):\n",
    "    return set([outcome for outcome in sample_space if event_condition(outcome)])"
   ]
  },
  {
   "cell_type": "code",
   "execution_count": 38,
   "id": "ba1b1731-7a60-429b-9627-7f71e8730fec",
   "metadata": {},
   "outputs": [
    {
     "name": "stdout",
     "output_type": "stream",
     "text": [
      "Event Condition: is_heads_or_tails\n",
      "Event: {'Tails', 'Heads'}\n",
      "\n",
      "Event Condition: is_heads\n",
      "Event: {'Heads'}\n",
      "\n",
      "Event Condition: is_tails\n",
      "Event: {'Tails'}\n",
      "\n",
      "Event Condition: is_neither\n",
      "Event: set()\n",
      "\n"
     ]
    }
   ],
   "source": [
    "event_conditions = [is_heads_or_tails, is_heads, is_tails, is_neither]\n",
    "for event_condition in event_conditions:\n",
    "    print(f'Event Condition: {event_condition.__name__}')\n",
    "    event = get_matching_event(event_condition, sample_space)\n",
    "    print(f'Event: {event}\\n')"
   ]
  },
  {
   "cell_type": "code",
   "execution_count": 41,
   "id": "57873067-2eae-4a22-9ba2-c7065ce18c6a",
   "metadata": {},
   "outputs": [
    {
     "name": "stdout",
     "output_type": "stream",
     "text": [
      "Event : {'Tails', 'Heads'}, Sample_Space : {'Tails', 'Heads'}\n",
      "Probabilty of even arising from is_heads_or_tails is 1.0\n",
      "Event : {'Heads'}, Sample_Space : {'Tails', 'Heads'}\n",
      "Probabilty of even arising from is_heads is 0.5\n",
      "Event : {'Tails'}, Sample_Space : {'Tails', 'Heads'}\n",
      "Probabilty of even arising from is_tails is 0.5\n",
      "Event : set(), Sample_Space : {'Tails', 'Heads'}\n",
      "Probabilty of even arising from is_neither is 0.0\n"
     ]
    }
   ],
   "source": [
    "# We know probability of event is equal to len(event) / len(sample_space)\n",
    "def compute_probability(event_condition, generic_sample_space):\n",
    "    event = get_matching_event(event_condition, generic_sample_space)\n",
    "    print(f'Event : {event}, Sample_Space : {generic_sample_space}')\n",
    "    return len(event) / len(generic_sample_space)\n",
    "for event_condition in event_conditions:\n",
    "    prob = compute_probability(event_condition, sample_space)\n",
    "    name = event_condition.__name__\n",
    "    print(f\"Probabilty of even arising from {name} is {prob}\")"
   ]
  },
  {
   "cell_type": "code",
   "execution_count": 42,
   "id": "794cea35-9c1b-44e6-9d3e-0976eb34a457",
   "metadata": {},
   "outputs": [],
   "source": [
    "# Analyzing biased coin\n",
    "weighted_sample_space = {\"Heads\": 4, 'Tails': 1}"
   ]
  },
  {
   "cell_type": "code",
   "execution_count": 45,
   "id": "27e998c5-023a-4039-9efc-e13f3d656eac",
   "metadata": {},
   "outputs": [],
   "source": [
    "sample_space_size = sum(weighted_sample_space.values())\n",
    "assert sample_space_size == 5"
   ]
  },
  {
   "cell_type": "code",
   "execution_count": 47,
   "id": "b698d3d0-5e80-43ab-8324-765a042bac59",
   "metadata": {},
   "outputs": [],
   "source": [
    "event = get_matching_event(is_heads_or_tails, weighted_sample_space)\n",
    "event_size = sum(weighted_sample_space[outcome] for outcome in event)\n",
    "assert event_size == 5"
   ]
  }
 ],
 "metadata": {
  "kernelspec": {
   "display_name": "Python 3 (ipykernel)",
   "language": "python",
   "name": "python3"
  },
  "language_info": {
   "codemirror_mode": {
    "name": "ipython",
    "version": 3
   },
   "file_extension": ".py",
   "mimetype": "text/x-python",
   "name": "python",
   "nbconvert_exporter": "python",
   "pygments_lexer": "ipython3",
   "version": "3.12.2"
  }
 },
 "nbformat": 4,
 "nbformat_minor": 5
}
